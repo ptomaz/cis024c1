{
 "cells": [
  {
   "cell_type": "markdown",
   "metadata": {},
   "source": [
    "\n",
    "# CIS024C - Fall 2017 - Thursday 5:30-9:25pm \n",
    "\n",
    "## Homework 6\n",
    "\n",
    "Homework 6 covers exercises that involve working with functions\n",
    "\n",
    "The below sites have some interesting and useful information on working with files\n",
    "\n",
    "https://www.learnpython.org/en/Functions\n",
    "https://www.tutorialspoint.com/python/python_functions.htm\n",
    "\n",
    "You will need to download this notebook and use this as a starting point for your homework. You will just need to fill in the content of each code-block (cell) and execute. Once you have completed all the exercises, you will need to save and upload this to your github repository under a folder called hw5.\n",
    "\n",
    "Note also the exercises build on top of one another so you might be able to do the next exercise if you have not completed the previous exercise.\n",
    "\n",
    "Post any questions you have on our Slack at **cis-024c1.slack.com**\n",
    "\n",
    "** Slides ** for Week 6 can be found at \n",
    "\n",
    "https://docs.google.com/presentation/d/1XGV2NR0ZAAmQYjlRuy81zzlW2g5lWS8L6a7iRV-lreQ/edit?usp=sharing\n",
    "\n",
    "**Please refer back to hw1 and slack for instructions on how to setup your computer for developing using Python.**"
   ]
  },
  {
   "cell_type": "markdown",
   "metadata": {},
   "source": [
    "### Helpful Jupyter Commands\n",
    "\n",
    "Below are some useful commands to know when using Jupyter\n",
    "\n",
    "1. You can add a new cell by clicking on the \"+\" icon on top.\n",
    "2. You can delete a cell by selecting that cell and clicking on the \"scissors\" icon on top.\n",
    "3. You can execute a cell by either pressing shift+enter or selecting the \"play\" button on top.\n",
    "4. You can create a new file in Jupyter via the File menu->New Notebook option. Make sure to select Python 2 when creating your notebook.\n",
    "5. Also, for your code blocks make sure that Code is selected instead of another option like Markdown.\n",
    "6. Use the Enter key to go to the next line in a cell to enter the next statement.\n",
    "7. You can clear results by clicking on the Cell menu item and selecting Current Output->Clear or All Output->Clear depending on whether you are trying to just clear the output for one cell or for all cells.\n",
    "8. In case your program has crashed for some reason (infinite loop, for example), you can restart your Python session by select Kernel in the menu and selecting Restart.\n"
   ]
  },
  {
   "cell_type": "markdown",
   "metadata": {},
   "source": [
    "#### Check Python Version"
   ]
  },
  {
   "cell_type": "code",
   "execution_count": 1,
   "metadata": {},
   "outputs": [
    {
     "name": "stderr",
     "output_type": "stream",
     "text": [
      "Python 2.7.13 :: Anaconda 4.4.0 (64-bit)\n"
     ]
    }
   ],
   "source": [
    "!python --version"
   ]
  },
  {
   "cell_type": "markdown",
   "metadata": {},
   "source": [
    "#### Sample Exercises with Functions\n",
    "\n",
    "Refer to Week 6 slides for a recap of what happened in Week 6\n",
    "\n",
    "https://docs.google.com/presentation/d/1XGV2NR0ZAAmQYjlRuy81zzlW2g5lWS8L6a7iRV-lreQ/edit?usp=sharing"
   ]
  },
  {
   "cell_type": "markdown",
   "metadata": {},
   "source": [
    "**Exercise 1 - Testing your knowledge of functions **\n",
    "\n",
    "Answer the below questions\n",
    "\n",
    "1. What is a function in Python?\n",
    "2. What are the advantages of using functions?"
   ]
  },
  {
   "cell_type": "markdown",
   "metadata": {},
   "source": [
    "1) A function is a block of organized, reusable code that is used to perform a single, related action.\n",
    "\n",
    "2) Functions provide better modularity for your application and a high degree of code reusing."
   ]
  },
  {
   "cell_type": "markdown",
   "metadata": {},
   "source": [
    "#### Exercise 2 -  Max of three numbers\n",
    "\n",
    "Write a Python function to find the Max of three numbers.\n",
    "\n",
    "Make sure you invoke this function in your main program and display the result"
   ]
  },
  {
   "cell_type": "code",
   "execution_count": 3,
   "metadata": {},
   "outputs": [
    {
     "name": "stdout",
     "output_type": "stream",
     "text": [
      "10567\n"
     ]
    }
   ],
   "source": [
    "### YOUR CODE GOES \n",
    "def maxXYZ (x,y,z):\n",
    "    if x>y and x>z:\n",
    "        return x\n",
    "    elif y>x and y>z:\n",
    "        return y\n",
    "    return z\n",
    "\n",
    "print maxXYZ(23,257,10567)\n",
    "\n",
    "### END CODE"
   ]
  },
  {
   "cell_type": "markdown",
   "metadata": {},
   "source": [
    "#### Exercise 3 - Finding the sum of numbers in a list\n",
    "\n",
    "Write a Python function to sum all the numbers in a list\n",
    "\n",
    "Make sure you invoke this function in your main program and display the result"
   ]
  },
  {
   "cell_type": "code",
   "execution_count": 5,
   "metadata": {},
   "outputs": [
    {
     "name": "stdout",
     "output_type": "stream",
     "text": [
      "Enter a list of numbers:1,2,3,4,6\n",
      "The sum of your numbers is: 16\n"
     ]
    }
   ],
   "source": [
    "### YOUR CODE GOES BELOW\n",
    "myList = input(\"Enter a list of numbers:\")\n",
    "numberList = myList\n",
    "#numberList = [1,5,7,12]\n",
    "\n",
    "def summer(numberList):\n",
    "    numberSum = 0\n",
    "    for i in range(len(numberList)):\n",
    "        numberSum += numberList[i]\n",
    "    return numberSum\n",
    "\n",
    "print \"The sum of your numbers is:\",summer(numberList)\n",
    "\n",
    "### END CODE"
   ]
  },
  {
   "cell_type": "markdown",
   "metadata": {},
   "source": [
    "#### Exercise 4 - Finding the product of numbers in a list\n",
    "\n",
    "Write a Python function to multiply all the numbers in a list\n",
    "\n",
    "Make sure you invoke this function in your main program and display the result"
   ]
  },
  {
   "cell_type": "code",
   "execution_count": 6,
   "metadata": {},
   "outputs": [
    {
     "name": "stdout",
     "output_type": "stream",
     "text": [
      "Enter a list of numbers:1,2,3,4,5\n",
      "The product of your numbers is: 120\n"
     ]
    }
   ],
   "source": [
    "### YOUR CODE GOES BELOW\n",
    "numberList = input(\"Enter a list of numbers:\")\n",
    "#numberList = [1,5,8,12]\n",
    "\n",
    "def multNum(numberList):\n",
    "    numberProd = 1\n",
    "    for i in range(len(numberList)):\n",
    "        numberProd *= numberList[i]\n",
    "        #numberProd = numberProd * numberList[i]\n",
    "    return numberProd\n",
    "  \n",
    "print \"The product of your numbers is:\",multNum(numberList)\n",
    "\n",
    "### END CODE"
   ]
  },
  {
   "cell_type": "markdown",
   "metadata": {},
   "source": [
    "#### Exercise 5 - Reversing a String\n",
    "\n",
    "Write a Python function to reverse a string\n",
    "\n",
    "Make sure you invoke this function in your main program and display the result"
   ]
  },
  {
   "cell_type": "code",
   "execution_count": 23,
   "metadata": {},
   "outputs": [
    {
     "name": "stdout",
     "output_type": "stream",
     "text": [
      "Enter a string:qwerty543\n",
      "The reverse of your string is: 345ytrewq\n"
     ]
    }
   ],
   "source": [
    "### YOUR CODE GOES BELOW\n",
    "myString = raw_input(\"Enter a string:\")\n",
    "#myString = \"qwerty\"\n",
    "def revStr(myString):\n",
    "    revString = myString[::-1]\n",
    "#    revString = \"\"\n",
    "#    for i in range(len(myString),-1):\n",
    "#        print i\n",
    "#        revString = myString[i]\n",
    "    return revString\n",
    "print \"The reverse of your string is: %s\" %revStr(myString)\n",
    "\n",
    "### END CODE"
   ]
  },
  {
   "cell_type": "markdown",
   "metadata": {},
   "source": [
    "## OPTIONAL EXERCISES\n",
    "\n",
    "Below is a set of optional exercises. These will not be graded but the solutions will be posted. I would strongly encourage you to try these out if you are done with the mandatory homework exercises to improve your understanding of python."
   ]
  },
  {
   "cell_type": "markdown",
   "metadata": {},
   "source": [
    "#### Exercise 6\n",
    "\n",
    "Write a Python function that accepts a string and calculate the number of upper case letters and lower case letters.\n",
    "\n",
    "Make sure you invoke this function in your main program and display the result"
   ]
  },
  {
   "cell_type": "code",
   "execution_count": 22,
   "metadata": {},
   "outputs": [
    {
     "name": "stdout",
     "output_type": "stream",
     "text": [
      "Enter a string with both upper and lower case letters: Happy Birthday, Jenni\n",
      "There are 3 uppercase letters and 15 lower case letters.\n",
      "None\n"
     ]
    }
   ],
   "source": [
    "### YOUR CODE GOES BELOW\n",
    "myString = raw_input(\"Enter a string with both upper and lower case letters: \")\n",
    "def countCase(myString):\n",
    "    upperCount = 0\n",
    "    lowerCount = 0\n",
    "    for i in range(len(myString)):\n",
    "        if myString[i].islower():\n",
    "            lowerCount+=1\n",
    "        elif myString[i].isupper():\n",
    "            upperCount+=1\n",
    "    #print \"There are\",upperCount,\"uppercase letters.\"\n",
    "    #print \"There are\",lowerCount,\"lowercase letters.\"\n",
    "    print \"There are %s uppercase letters and %s lower case letters.\" % (upperCount,lowerCount)\n",
    "\n",
    "print countCase(myString)\n",
    "\n",
    "### END CODE"
   ]
  },
  {
   "cell_type": "markdown",
   "metadata": {},
   "source": [
    "#### Exercise 7\n",
    "\n",
    " Write a Python function to print the even numbers from a given list..\n",
    " \n",
    " Make sure you invoke this function in your main program and display the result"
   ]
  },
  {
   "cell_type": "code",
   "execution_count": 1,
   "metadata": {},
   "outputs": [
    {
     "name": "stdout",
     "output_type": "stream",
     "text": [
      "Enter a set of numbers: 1, 4, 13, 4, 17\n",
      "You entered 2 even numbers.\n"
     ]
    }
   ],
   "source": [
    "### YOUR CODE GOES BELOW\n",
    "userNums = input(\"Enter a set of numbers: \")\n",
    "\n",
    "def even(userNums):\n",
    "    evenCount = 0\n",
    "    for i in range(len(userNums)):\n",
    "        if userNums[i] % 2 ==0:\n",
    "            evenCount+=1\n",
    "        \n",
    "    return evenCount\n",
    "        \n",
    "print \"You entered %s even numbers.\" % even(userNums)\n",
    "\n",
    "### END CODE"
   ]
  },
  {
   "cell_type": "markdown",
   "metadata": {},
   "source": [
    "#### Exercise 8\n",
    "\n",
    "Write a Python function that checks whether a passed string is palindrome or not.\n",
    "\n",
    "Make sure you invoke this function in your main program and display the result"
   ]
  },
  {
   "cell_type": "code",
   "execution_count": 46,
   "metadata": {},
   "outputs": [
    {
     "name": "stdout",
     "output_type": "stream",
     "text": [
      "Enter a string: racecar\n",
      "\"racecar\" is a palindrone.\n"
     ]
    }
   ],
   "source": [
    "### YOUR CODE GOES BELOW\n",
    "myString = raw_input(\"Enter a string: \")\n",
    "\n",
    "def isPalindrome(string):\n",
    "    if string == string[::-1]:\n",
    "        return True\n",
    "    #else:\n",
    "     #   return False\n",
    "\n",
    "if isPalindrome(myString) == True:\n",
    "    print \"\\\"%s\\\" is a palindrone.\" % myString\n",
    "    \n",
    "else:\n",
    "    print \"\\\"%s\\\" is not a palindrone.\" % myString\n",
    "\n",
    "\n",
    "### END CODE"
   ]
  },
  {
   "cell_type": "markdown",
   "metadata": {
    "collapsed": true
   },
   "source": [
    "#### Exercise 9\n",
    "\n",
    "Write a recursive Python program to compute the result of fibonacci series. \n",
    "\n",
    "This is what a fibonacci series is https://www.mathsisfun.com/numbers/fibonacci-sequence.html\n",
    "\n",
    "Make sure you invoke this function in your main program and display the result"
   ]
  },
  {
   "cell_type": "code",
   "execution_count": 66,
   "metadata": {},
   "outputs": [
    {
     "name": "stdout",
     "output_type": "stream",
     "text": [
      "Enter the number of fibonacci series runs: 13\n",
      "Fibonacci sequence: 0 1 1 2 3 5 8 13 21 34 55 89 144\n"
     ]
    }
   ],
   "source": [
    "### YOUR CODE GOES BELOW\n",
    "numRuns =  input(\"Enter the number of fibonacci series runs: \")\n",
    "\n",
    "def fibonacci(number):\n",
    "    if number <= 1:\n",
    "        return number\n",
    "    else:\n",
    "        return(fibonacci(number-1) + fibonacci(number-2))\n",
    "    \n",
    "print(\"Fibonacci sequence:\"),\n",
    "\n",
    "    \n",
    "for i in range(numRuns):\n",
    "    print fibonacci(i),\n",
    "   \n",
    "\n",
    "### END CODE"
   ]
  },
  {
   "cell_type": "markdown",
   "metadata": {},
   "source": [
    "#### Exercise 10\n",
    "\n",
    "Write a python program to autocorrect user input using the edit distance method. \n",
    "\n",
    "Make sure you invoke this function in your main program and display the result"
   ]
  },
  {
   "cell_type": "code",
   "execution_count": 1,
   "metadata": {},
   "outputs": [
    {
     "name": "stdout",
     "output_type": "stream",
     "text": [
      "Distance between words is:  h h 0\n",
      "e u -16\n",
      "r r 0\n",
      "t t 0\n",
      "z s 7\n",
      "-9\n"
     ]
    }
   ],
   "source": [
    "### YOUR CODE GOES BELOW\n",
    "\n",
    "def similarity(word1,word2):\n",
    "    lettercount = 0\n",
    "    if len(word1) <= len(word2):\n",
    "        lettercount = len(word1)\n",
    "    else:\n",
    "        lettercount = len(word2)\n",
    "        \n",
    "    editDistance = 0\n",
    "    \n",
    "    for i in range(lettercount):\n",
    "        letterDistance = ord(word1[i]) - ord(word2[i])\n",
    "        print word1[i], word2[i], letterDistance\n",
    "        editDistance += letterDistance\n",
    "    return editDistance\n",
    "\n",
    "print \"Distance between words is: \", similarity(\"hertz\",\"hurts\")\n",
    "\n",
    "\n",
    "### END CODE"
   ]
  },
  {
   "cell_type": "code",
   "execution_count": null,
   "metadata": {
    "collapsed": true
   },
   "outputs": [],
   "source": []
  }
 ],
 "metadata": {
  "kernelspec": {
   "display_name": "Python 2",
   "language": "python",
   "name": "python2"
  },
  "language_info": {
   "codemirror_mode": {
    "name": "ipython",
    "version": 2
   },
   "file_extension": ".py",
   "mimetype": "text/x-python",
   "name": "python",
   "nbconvert_exporter": "python",
   "pygments_lexer": "ipython2",
   "version": "2.7.13"
  }
 },
 "nbformat": 4,
 "nbformat_minor": 2
}
