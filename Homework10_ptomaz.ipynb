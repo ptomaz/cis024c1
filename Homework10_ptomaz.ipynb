{
 "cells": [
  {
   "cell_type": "markdown",
   "metadata": {},
   "source": [
    "\n",
    "# CIS024C - Fall 2017 - Thursday 5:30-9:25pm \n",
    "\n",
    "## Homework 10\n",
    "\n",
    "Homework 10 covers object oriented programming in Python\n",
    "\n",
    "The below sites have some interesting and useful information on working with files\n",
    "\n",
    "https://drive.google.com/open?id=1OrcpXEmhvgcJxSlchIBsvmXST0lG_uKx\n",
    "http://www.tutorialspoint.com/python/python_classes_objects.htm\n",
    "\n",
    "You will need to download this notebook and use this as a starting point for your homework. You will just need to fill in the content of each code-block (cell) and execute. Once you have completed all the exercises, you will need to save and upload this to your github repository under a folder called hw10.\n",
    "\n",
    "Note also the exercises build on top of one another so you might be able to do the next exercise if you have not completed the previous exercise.\n",
    "\n",
    "Post any questions you have on our Slack at **cis-024c1.slack.com**\n",
    "\n",
    "** Slides ** for Week 10 can be found at \n",
    "\n",
    "https://docs.google.com/presentation/d/1AigvCKV1yb3PrrcT5xt3IqyAwGpv6IKMNWYUiQ2Oy6k/edit?usp=sharing\n",
    "\n",
    "**Please refer back to hw1 and slack for instructions on how to setup your computer for developing using Python.**"
   ]
  },
  {
   "cell_type": "markdown",
   "metadata": {},
   "source": [
    "### Helpful Jupyter Commands\n",
    "\n",
    "Below are some useful commands to know when using Jupyter\n",
    "\n",
    "1. You can add a new cell by clicking on the \"+\" icon on top.\n",
    "2. You can delete a cell by selecting that cell and clicking on the \"scissors\" icon on top.\n",
    "3. You can execute a cell by either pressing shift+enter or selecting the \"play\" button on top.\n",
    "4. You can create a new file in Jupyter via the File menu->New Notebook option. Make sure to select Python 2 when creating your notebook.\n",
    "5. Also, for your code blocks make sure that Code is selected instead of another option like Markdown.\n",
    "6. Use the Enter key to go to the next line in a cell to enter the next statement.\n",
    "7. You can clear results by clicking on the Cell menu item and selecting Current Output->Clear or All Output->Clear depending on whether you are trying to just clear the output for one cell or for all cells.\n",
    "8. In case your program has crashed for some reason (infinite loop, for example), you can restart your Python session by select Kernel in the menu and selecting Restart.\n"
   ]
  },
  {
   "cell_type": "markdown",
   "metadata": {},
   "source": [
    "#### Check Python Version"
   ]
  },
  {
   "cell_type": "code",
   "execution_count": 1,
   "metadata": {},
   "outputs": [
    {
     "name": "stderr",
     "output_type": "stream",
     "text": [
      "Python 2.7.13 :: Anaconda 4.4.0 (64-bit)\n"
     ]
    }
   ],
   "source": [
    "!python --version"
   ]
  },
  {
   "cell_type": "markdown",
   "metadata": {},
   "source": [
    "#### Sample Exercises with Exception Handling\n",
    "\n",
    "Week 10 Class Work can be found here\n",
    "\n",
    "https://github.com/cis024c/fall2017classwork/blob/master/week10/week10_classwork.ipynb"
   ]
  },
  {
   "cell_type": "markdown",
   "metadata": {},
   "source": [
    "**Exercise 1 - Testing your knowledge of object oriented programming concepts **\n",
    "\n",
    "Answer the below questions\n",
    "\n",
    "1. Why do we need classes?\n",
    "2. What is encapsulation?"
   ]
  },
  {
   "cell_type": "markdown",
   "metadata": {},
   "source": [
    "1.Why do we need classes?\n",
    "A class is a specification or blueprint used to create an object.  It offers the ability or recreate objects with repeatability and w/o recreating code to do so.  Variables and functions that are commmon to the object can be defined by the class and used to create multiple objects.\n",
    "\n",
    "2.What is encapsulation?\n",
    "Encapsulstion is combining attributes and functions into a single entity called a class."
   ]
  },
  {
   "cell_type": "markdown",
   "metadata": {},
   "source": [
    "** Exercise 2 - Class creation **\n",
    "\n",
    "Create a Python class named **Employee** with the following attributes and methods\n",
    "\n",
    "Data members\n",
    "```\n",
    "1. employeeName  - type string\n",
    "2. employeeAge  - type int\n",
    "3. employeeSalary - type float\n",
    "```\n",
    "\n",
    "Methods:\n",
    "```\n",
    "1. getEmployee - returns employee name\n",
    "2. getEmployeeAge - gets the employee age\n",
    "3. getEmployeeSalary - returns the employee salary\n",
    "4. __init__ - initialize method accepts the name, age and salary of the employee\n",
    "```\n",
    "\n",
    "Create an object of type Employee and initialize with arbitrary values. Invoke the get methods and display the result."
   ]
  },
  {
   "cell_type": "code",
   "execution_count": 11,
   "metadata": {
    "collapsed": true
   },
   "outputs": [],
   "source": [
    "### YOUR CODE GOES BELOW\n",
    "class Employee(object):\n",
    "    def __init__(self, name, age=0, salary=0.0):\n",
    "        self.name = name\n",
    "        self.age = age\n",
    "        self.salary = salary\n",
    "        \n",
    "    def getEmployee(self):\n",
    "        return self.name\n",
    "        \n",
    "    def getEmployeeAge(self):\n",
    "        return self.age\n",
    "    \n",
    "    def getEmployeeSalary(self):\n",
    "        return self.salary\n",
    "\n",
    "       \n",
    "    def __str__(self):\n",
    "        return \"Name: %s\\nAge: %s\\nSalary: $%.2f\" % (self.name, self.age, self.salary)\n",
    "    \n",
    "    \n",
    "\n",
    "### END COD"
   ]
  },
  {
   "cell_type": "code",
   "execution_count": 12,
   "metadata": {
    "collapsed": true
   },
   "outputs": [],
   "source": [
    "newEmployee = Employee(\"Jenni\",38,78500.30)"
   ]
  },
  {
   "cell_type": "code",
   "execution_count": 13,
   "metadata": {},
   "outputs": [
    {
     "name": "stdout",
     "output_type": "stream",
     "text": [
      "Jenni\n",
      "38\n",
      "78500.3\n",
      "\n",
      "Name: Jenni\n",
      "Age: 38\n",
      "Salary: $78500.30\n",
      "38\n"
     ]
    }
   ],
   "source": [
    "print newEmployee.getEmployee()\n",
    "print newEmployee.getEmployeeAge()\n",
    "print newEmployee.getEmployeeSalary()\n",
    "print\n",
    "print newEmployee\n",
    "print newEmployee.age"
   ]
  },
  {
   "cell_type": "markdown",
   "metadata": {},
   "source": [
    "#### Exercise 3 - Private members\n",
    "\n",
    "In the above **Employee** class make the employeeName, employeeAge and employeeSalary private so that their access is restricted to only within the class."
   ]
  },
  {
   "cell_type": "code",
   "execution_count": 28,
   "metadata": {
    "collapsed": true
   },
   "outputs": [],
   "source": [
    "### YOUR CODE GOES BELOW\n",
    "class Employee(object):\n",
    "    def __init__(self, name, age=0, salary=0.0):\n",
    "        self.__name = name\n",
    "        self.__age = age\n",
    "        self.__salary = salary\n",
    "        \n",
    "    def getEmployeeName(self):\n",
    "        return self.__name\n",
    "        \n",
    "    def getEmployeeAge(self):\n",
    "        return self.__age\n",
    "    \n",
    "    def getEmployeeSalary(self):\n",
    "        return self.__salary\n",
    "\n",
    "       \n",
    "    def __str__(self):\n",
    "        return \"Name: %s\\nAge: %s\\nSalary: $%.2f\" % (self.__name, self.__age, self.__salary)\n",
    "    \n",
    "     \n",
    "\n",
    "### END CODE"
   ]
  },
  {
   "cell_type": "code",
   "execution_count": 29,
   "metadata": {
    "collapsed": true
   },
   "outputs": [],
   "source": [
    "newEmployee = Employee(\"Jen\",45,78550)"
   ]
  },
  {
   "cell_type": "code",
   "execution_count": 30,
   "metadata": {},
   "outputs": [
    {
     "name": "stdout",
     "output_type": "stream",
     "text": [
      "Jen\n",
      "45\n",
      "78550\n",
      "Name: Jen\n",
      "Age: 45\n",
      "Salary: $78550.00\n"
     ]
    },
    {
     "ename": "AttributeError",
     "evalue": "'Employee' object has no attribute 'age'",
     "output_type": "error",
     "traceback": [
      "\u001b[1;31m---------------------------------------------------------------------------\u001b[0m",
      "\u001b[1;31mAttributeError\u001b[0m                            Traceback (most recent call last)",
      "\u001b[1;32m<ipython-input-30-60a1fb1c98c6>\u001b[0m in \u001b[0;36m<module>\u001b[1;34m()\u001b[0m\n\u001b[0;32m      3\u001b[0m \u001b[1;32mprint\u001b[0m \u001b[0mnewEmployee\u001b[0m\u001b[1;33m.\u001b[0m\u001b[0mgetEmployeeSalary\u001b[0m\u001b[1;33m(\u001b[0m\u001b[1;33m)\u001b[0m\u001b[1;33m\u001b[0m\u001b[0m\n\u001b[0;32m      4\u001b[0m \u001b[1;32mprint\u001b[0m \u001b[0mnewEmployee\u001b[0m\u001b[1;33m\u001b[0m\u001b[0m\n\u001b[1;32m----> 5\u001b[1;33m \u001b[1;32mprint\u001b[0m \u001b[0mnewEmployee\u001b[0m\u001b[1;33m.\u001b[0m\u001b[0mage\u001b[0m\u001b[1;33m\u001b[0m\u001b[0m\n\u001b[0m\u001b[0;32m      6\u001b[0m \u001b[1;32mprint\u001b[0m \u001b[0mnewEmployee\u001b[0m\u001b[1;33m.\u001b[0m\u001b[0m__age\u001b[0m\u001b[1;33m\u001b[0m\u001b[0m\n",
      "\u001b[1;31mAttributeError\u001b[0m: 'Employee' object has no attribute 'age'"
     ]
    }
   ],
   "source": [
    "print newEmployee.getEmployeeName()\n",
    "print newEmployee.getEmployeeAge()\n",
    "print newEmployee.getEmployeeSalary()\n",
    "print newEmployee\n",
    "print newEmployee.age\n",
    "print newEmployee.__age"
   ]
  },
  {
   "cell_type": "markdown",
   "metadata": {},
   "source": [
    "#### Exercise 4 - Adding setters and working with a list of Employees\n",
    "\n",
    "In the **Employee** class add the following methods\n",
    "\n",
    "```\n",
    "1. setEmployeeAge - accepts age and sets it in the object\n",
    "2. setEmployeeName - accepts employee name and sets it in the object\n",
    "3. setEmployeeSalary - accepts employee salary and sets it i nthe object\n",
    "```\n",
    "\n",
    "Create a list of employees called employeeList. Initialize the list with three objects of type Employee. Initialize the object with the values \"None\" for employeeName, 0 for employeeAge and 0 for employeeSalary.\n",
    "\n",
    "Loop  through each employee in the employeeList. Each time, request the user to enter the name, age and salary of a different employee. Use the set methods to set the name, age and salary for each employee in the employeeList.\n",
    "\n",
    "Loop through each employee in the employeeList. Display the name, age and salary of each employee."
   ]
  },
  {
   "cell_type": "code",
   "execution_count": 1,
   "metadata": {
    "collapsed": true
   },
   "outputs": [],
   "source": [
    "### YOUR CODE GOES BELOW\n",
    "class Employee(object):\n",
    "    def __init__(self, name=None, age=0, salary=0.0):\n",
    "        self.__name = name\n",
    "        self.__age = age\n",
    "        self.__salary = salary\n",
    "        \n",
    "    def getEmployeeName(self):\n",
    "        return self.__name\n",
    "        \n",
    "    def getEmployeeAge(self):\n",
    "        return self.__age\n",
    "    \n",
    "    def getEmployeeSalary(self):\n",
    "        return self.__salary\n",
    "\n",
    "    def setEmployeeName(self,name):\n",
    "        self.__name = name\n",
    "        \n",
    "    def setEmployeeAge(self,age):\n",
    "        self.__age = age\n",
    "    \n",
    "    def setEmployeeSalary(self,salary):\n",
    "        self.__salary = salary\n",
    "       \n",
    "    def __str__(self):\n",
    "        return \"Name: %s\\nAge: %s\\nSalary: $%.2f\" % (self.__name, self.__age, self.__salary)\n",
    "    \n",
    "\n",
    "### END CODE"
   ]
  },
  {
   "cell_type": "code",
   "execution_count": 7,
   "metadata": {},
   "outputs": [
    {
     "name": "stdout",
     "output_type": "stream",
     "text": [
      "Do you need to enter employee information? (Y or N)y\n",
      "Employees name:Jayk\n",
      "Employees age:20\n",
      "Employees salary:120000\n",
      "Do you need to enter employee information? (Y or N)y\n",
      "Employees name:Jenni\n",
      "Employees age:39\n",
      "Employees salary:203000.33\n",
      "Do you need to enter employee information? (Y or N)y\n",
      "Employees name:Sally\n",
      "Employees age:77\n",
      "Employees salary:46000\n",
      "The maximum of three employees has been entered\n",
      "Name: Jayk\n",
      "Age: 20\n",
      "Salary: $120000.00\n",
      "Name: Jenni\n",
      "Age: 39\n",
      "Salary: $203000.33\n",
      "Name: Sally\n",
      "Age: 77\n",
      "Salary: $46000.00\n"
     ]
    }
   ],
   "source": [
    "inputFlag = \"Y\"\n",
    "count=0\n",
    "employeeList = []  #initialze List\n",
    "\n",
    "for i in range(3):     # fill list with 3 \"None\" employees\n",
    "    employeeList.append(Employee(\"None\",0,0))\n",
    "\n",
    "#fill the list with employees\n",
    "while inputFlag==\"Y\" or inputFlag==\"y\":\n",
    "    inputFlag = raw_input(\"Do you need to enter employee information? (Y or N)\")\n",
    "    if inputFlag==\"N\" or inputFlag==\"n\":\n",
    "        print \"Data entry complete.\"\n",
    "        break\n",
    "    else:\n",
    "        \n",
    "        employee_name = raw_input(\"Employees name:\")\n",
    "        employeeList[count].setEmployeeName(employee_name)\n",
    "        employee_age = input(\"Employees age:\")\n",
    "        employeeList[count].setEmployeeAge(employee_age)\n",
    "        employee_salary = input(\"Employees salary:\")\n",
    "        employeeList[count].setEmployeeSalary(employee_salary)\n",
    "        if count==2:\n",
    "            print \"The maximum of three employees has been entered\"\n",
    "            break\n",
    "        count +=1\n",
    "        \n",
    "       # employeeList.append(Employee(employee_name,employee_age,employee_salary))\n",
    "for i in range(count+1):        \n",
    "    print employeeList[i]\n"
   ]
  },
  {
   "cell_type": "markdown",
   "metadata": {},
   "source": [
    "#### Exercise 5 -  Creating a Python calculator class\n",
    "\n",
    "Create a Python class called Calculator. \n",
    "\n",
    "The class has the following data members\n",
    "\n",
    "```\n",
    "1. number1 - type float\n",
    "2. number2 - type float\n",
    "```\n",
    "\n",
    "The class must have the below methods\n",
    "\n",
    "```\n",
    "1. add - adds two numbers and returns the result\n",
    "2. subtract - subtracts the first number from the second number and returns the result\n",
    "3. multiply - multiply two numbers and returns the result\n",
    "4. divide - divide the first number by the second number and returns the result\n",
    "5. __init__ - accepts two numbers and uses those numbers to initialize number1 and number2 respectively\n",
    "```\n",
    "\n",
    "Create an object of the Calculator class. Initialize it with any two arbitrary numbers. Invoke the methods add, subtract, multiple and divide and display the result\n",
    "\n",
    "\n"
   ]
  },
  {
   "cell_type": "code",
   "execution_count": 16,
   "metadata": {},
   "outputs": [],
   "source": [
    "### YOUR CODE GOES \n",
    "class Calculator(object):\n",
    "    def __init__(self, number1=0.0, number2=0.0):\n",
    "        self.__num1 = number1\n",
    "        self.__num2 = number2\n",
    "        \n",
    "    def add(self):\n",
    "        return self.__num1 + self.__num2\n",
    "        \n",
    "    def sub(self):\n",
    "        return self.__num1 - self.__num2\n",
    "        \n",
    "    def mult(self):\n",
    "        return self.__num1 * self.__num2\n",
    "        \n",
    "    def div(self):\n",
    "        return self.__num1 / self.__num2\n",
    "        \n",
    "    def __str__(self):\n",
    "        return \"Sum: %.1f\\nDifference: %.1f\\nProduct: %.1f\\nQuotient: %.12f\" % (self.add(), self.sub(), self.mult(), self.div()) \n",
    "    \n",
    "    \n",
    "#test = Calculator(24.7,17.1)\n",
    "\n",
    "#print test\n",
    "        \n",
    "    \n",
    "\n",
    "### END CODE"
   ]
  },
  {
   "cell_type": "code",
   "execution_count": 17,
   "metadata": {},
   "outputs": [
    {
     "name": "stdout",
     "output_type": "stream",
     "text": [
      "Sum: 369.7\n",
      "Difference: -322.1\n",
      "Product: 8232.4\n",
      "Quotient: 0.068806013299\n"
     ]
    }
   ],
   "source": [
    "print Calculator(23.8,345.9)"
   ]
  },
  {
   "cell_type": "code",
   "execution_count": null,
   "metadata": {
    "collapsed": true
   },
   "outputs": [],
   "source": []
  }
 ],
 "metadata": {
  "kernelspec": {
   "display_name": "Python 2",
   "language": "python",
   "name": "python2"
  },
  "language_info": {
   "codemirror_mode": {
    "name": "ipython",
    "version": 2
   },
   "file_extension": ".py",
   "mimetype": "text/x-python",
   "name": "python",
   "nbconvert_exporter": "python",
   "pygments_lexer": "ipython2",
   "version": "2.7.13"
  }
 },
 "nbformat": 4,
 "nbformat_minor": 2
}
